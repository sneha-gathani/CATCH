{
 "cells": [
  {
   "cell_type": "code",
   "execution_count": 3,
   "metadata": {},
   "outputs": [],
   "source": [
    "import csv\n",
    "import os\n",
    "import numpy as np\n",
    "import pandas as pd\n",
    "\n",
    "from matplotlib import pyplot as plt\n",
    "from sklearn.cluster import KMeans\n",
    "from copy import deepcopy\n",
    "from scipy.spatial.distance import cdist"
   ]
  },
  {
   "cell_type": "code",
   "execution_count": 3,
   "metadata": {},
   "outputs": [],
   "source": [
    "#File1 - Participant Data\n",
    "AppParticipationFields = ['LUID', 'Date', 'Hour', 'Instances']\n",
    "\n",
    "AppParticipation = [] #Array of dictionary having List of rows in file\n",
    "intermediate = [] #intermediate array to make numpy\n",
    "with open('AppParticipation_year2.csv', 'r') as f:\n",
    "    csv_f = csv.reader(f)\n",
    "    fields = next(csv_f)\n",
    "    mylist = list(csv_f)\n",
    "for i in range(0, len(mylist)):\n",
    "    string = mylist[i]\n",
    "    values = string[0].split('\\t')\n",
    "    # intermediate.append(values)\n",
    "    AppParticipation.append({AppParticipationFields[j]:values[j] for j in range(0,len(AppParticipationFields))})\n",
    "#print(AppParticipation)"
   ]
  },
  {
   "cell_type": "code",
   "execution_count": 4,
   "metadata": {},
   "outputs": [],
   "source": [
    "#File2 - Location Data\n",
    "LocationFields = ['LUID', 'Date', 'Latitude', 'Longitude', 'Floor', 'BuildingID', 'Time']\n",
    "\n",
    "LocationData = [] #Array of dictionary having List of rows in file\n",
    "with open('EstIndoorLocation_year2.csv', 'r') as f1:\n",
    "    csv_f1 = csv.reader(f1)\n",
    "    fields1 = next(csv_f1)\n",
    "    mylist1 = list(csv_f1)\n",
    "for i in range(0, len(mylist1)):\n",
    "    string1 = mylist1[i]\n",
    "    values = string1[0].split('\\t')\n",
    "    datetime = values[1].split(\" \")\n",
    "    date = datetime[0]\n",
    "    time = datetime[1]\n",
    "    values[1] = date\n",
    "    values.append(time)\n",
    "    LocationData.append({LocationFields[j]:values[j] for j in range(0,len(LocationFields))})"
   ]
  },
  {
   "cell_type": "code",
   "execution_count": 5,
   "metadata": {},
   "outputs": [],
   "source": [
    "# threshhold = 10 #threshhold for minimum number of instances\n",
    "#What is happening - If the minimum threshold is not met in the Participation array, remove the user from the Location array\n",
    "i=0\n",
    "j=0\n",
    "count = len(LocationData)-1\n",
    "\n",
    "while i<len(LocationData):\n",
    "    while j<len(AppParticipation):\n",
    "        if(AppParticipation[j][\"LUID\"] == LocationData[i][\"LUID\"] and (int(AppParticipation[j][\"Instances\"]))<10):\n",
    "            # print(AppParticipation[j])\n",
    "            count=count-1\n",
    "            del LocationData[i]\n",
    "        j=j+1\n",
    "    i=i+1\n",
    "\n",
    "# #Writing final data to csv file\n",
    "os.remove(\"fulldatetime.csv\")\n",
    "csv_file = \"fulldatetime.csv\"\n",
    "try:\n",
    "    with open(csv_file, 'w') as csvfile:\n",
    "        writer = csv.DictWriter(csvfile, fieldnames=LocationFields)\n",
    "        writer.writeheader()\n",
    "        for data in LocationData:\n",
    "            writer.writerow(data)\n",
    "except IOError:\n",
    "    print(\"I/O error\")"
   ]
  }
 ],
 "metadata": {
  "kernelspec": {
   "display_name": "Python 3",
   "language": "python",
   "name": "python3"
  },
  "language_info": {
   "codemirror_mode": {
    "name": "ipython",
    "version": 3
   },
   "file_extension": ".py",
   "mimetype": "text/x-python",
   "name": "python",
   "nbconvert_exporter": "python",
   "pygments_lexer": "ipython3",
   "version": "3.6.5"
  }
 },
 "nbformat": 4,
 "nbformat_minor": 2
}
