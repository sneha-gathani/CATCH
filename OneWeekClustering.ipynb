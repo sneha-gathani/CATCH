{
 "cells": [
  {
   "cell_type": "code",
   "execution_count": 1,
   "metadata": {},
   "outputs": [],
   "source": [
    "import csv\n",
    "import os\n",
    "import numpy as np\n",
    "import pandas as pd\n",
    "\n",
    "from matplotlib import pyplot as plt\n",
    "from sklearn.cluster import KMeans\n",
    "from copy import deepcopy\n",
    "from scipy.spatial.distance import cdist"
   ]
  },
  {
   "cell_type": "code",
   "execution_count": 2,
   "metadata": {
    "scrolled": true
   },
   "outputs": [
    {
     "name": "stdout",
     "output_type": "stream",
     "text": [
      "Input data and shape\n",
      "<class 'pandas.core.frame.DataFrame'>\n"
     ]
    },
    {
     "data": {
      "text/plain": [
       "(576574, 8)"
      ]
     },
     "execution_count": 2,
     "metadata": {},
     "output_type": "execute_result"
    }
   ],
   "source": [
    "#reading data into data\n",
    "data = pd.read_csv('changeddata.csv')\n",
    "print(\"Input data and shape\")\n",
    "print(type(data))\n",
    "data.head()\n",
    "data.shape"
   ]
  },
  {
   "cell_type": "code",
   "execution_count": 3,
   "metadata": {},
   "outputs": [
    {
     "data": {
      "text/plain": [
       "(46252, 8)"
      ]
     },
     "execution_count": 3,
     "metadata": {},
     "output_type": "execute_result"
    }
   ],
   "source": [
    "#taking only a week's inputs - 09/02/18-15/02/18\n",
    "date = [20180209, 20180210, 20180211, 20180212, 20180213, 20180214, 20180215]\n",
    "week = data[data.Date.isin(date)]\n",
    "week.shape"
   ]
  },
  {
   "cell_type": "code",
   "execution_count": 14,
   "metadata": {},
   "outputs": [
    {
     "name": "stdout",
     "output_type": "stream",
     "text": [
      "<class 'numpy.ndarray'>\n",
      "[20 20 20 ... 23 23 23]\n"
     ]
    }
   ],
   "source": [
    "#2 features on which clustering should happen\n",
    "f1 = week['Date'].values\n",
    "f2 = week['Time'].values\n",
    "print(type(f2))\n",
    "print(f2)"
   ]
  },
  {
   "cell_type": "code",
   "execution_count": 5,
   "metadata": {},
   "outputs": [],
   "source": [
    "#Binning the dates\n",
    "for i in range(len(f1)):\n",
    "    if(f1[i]==20180209):\n",
    "        f1[i]=1\n",
    "    elif(f1[i]==20180210):\n",
    "        f1[i]=2\n",
    "    elif(f1[i]==20180211):\n",
    "        f1[i]=3\n",
    "    elif(f1[i]==20180212):\n",
    "        f1[i]=4\n",
    "    elif(f1[i]==20180213):\n",
    "        f1[i]=5\n",
    "    elif(f1[i]==20180214):\n",
    "        f1[i]=6\n",
    "    elif(f1[i]==20180215):\n",
    "        f1[i]=7\n",
    "    "
   ]
  },
  {
   "cell_type": "code",
   "execution_count": 6,
   "metadata": {},
   "outputs": [
    {
     "data": {
      "text/plain": [
       "23"
      ]
     },
     "execution_count": 6,
     "metadata": {},
     "output_type": "execute_result"
    }
   ],
   "source": [
    "max(f2)"
   ]
  },
  {
   "cell_type": "code",
   "execution_count": 7,
   "metadata": {},
   "outputs": [
    {
     "name": "stdout",
     "output_type": "stream",
     "text": [
      "[[ 1 20]\n",
      " [ 1 20]\n",
      " [ 1 20]\n",
      " ...\n",
      " [ 7 23]\n",
      " [ 7 23]\n",
      " [ 7 23]]\n"
     ]
    }
   ],
   "source": [
    "#zipping the features\n",
    "X = np.array(list(zip(f1, f2)))\n",
    "print(X)"
   ]
  },
  {
   "cell_type": "code",
   "execution_count": 8,
   "metadata": {},
   "outputs": [],
   "source": [
    "# import KMeans\n",
    "from sklearn.cluster import KMeans"
   ]
  },
  {
   "cell_type": "code",
   "execution_count": 9,
   "metadata": {},
   "outputs": [
    {
     "name": "stdout",
     "output_type": "stream",
     "text": [
      "[[ 3.85253682  3.21963993]\n",
      " [ 2.58611514 10.65989357]\n",
      " [ 4.23305412 19.44548969]]\n"
     ]
    }
   ],
   "source": [
    "# create kmeans object\n",
    "kmeans = KMeans(n_clusters=3)\n",
    "# fit kmeans object to data\n",
    "kmeans.fit(X)\n",
    "# print location of clusters learned by kmeans object\n",
    "print(kmeans.cluster_centers_)\n",
    "# save new clusters for chart\n",
    "y_km = kmeans.fit_predict(X)"
   ]
  },
  {
   "cell_type": "code",
   "execution_count": 10,
   "metadata": {},
   "outputs": [
    {
     "data": {
      "text/plain": [
       "<matplotlib.collections.PathCollection at 0x11692e4a8>"
      ]
     },
     "execution_count": 10,
     "metadata": {},
     "output_type": "execute_result"
    },
    {
     "data": {
      "image/png": "[encoded data removed]",
      "text/plain": [
       "<Figure size 432x288 with 1 Axes>"
      ]
     },
     "metadata": {},
     "output_type": "display_data"
    }
   ],
   "source": [
    "plt.scatter(X[y_km ==0,0], X[y_km == 0,1], s=100, c='red')\n",
    "plt.scatter(X[y_km ==1,0], X[y_km == 1,1], s=100, c='black')\n",
    "plt.scatter(X[y_km ==2,0], X[y_km == 2,1], s=100, c='blue')"
   ]
  },
  {
   "cell_type": "code",
   "execution_count": 11,
   "metadata": {},
   "outputs": [],
   "source": [
    "# import hierarchical clustering libraries\n",
    "import scipy.cluster.hierarchy as sch\n",
    "from sklearn.cluster import AgglomerativeClustering"
   ]
  },
  {
   "cell_type": "code",
   "execution_count": 12,
   "metadata": {},
   "outputs": [
    {
     "data": {
      "image/png": "[encoded data removed]",
      "text/plain": [
       "<Figure size 432x288 with 1 Axes>"
      ]
     },
     "metadata": {},
     "output_type": "display_data"
    }
   ],
   "source": [
    "# create dendrogram\n",
    "dendrogram = sch.dendrogram(sch.linkage(X, method='ward'))\n",
    "# create clusters\n",
    "hc = AgglomerativeClustering(n_clusters=3, affinity = 'euclidean', linkage = 'ward')\n",
    "# save clusters for chart\n",
    "y_hc = hc.fit_predict(X)"
   ]
  },
  {
   "cell_type": "code",
   "execution_count": 13,
   "metadata": {},
   "outputs": [
    {
     "data": {
      "text/plain": [
       "<matplotlib.collections.PathCollection at 0x1a402a9c88>"
      ]
     },
     "execution_count": 13,
     "metadata": {},
     "output_type": "execute_result"
    },
    {
     "data": {
      "image/png": "[encoded data removed]",
      "text/plain": [
       "<Figure size 432x288 with 1 Axes>"
      ]
     },
     "metadata": {},
     "output_type": "display_data"
    }
   ],
   "source": [
    "plt.scatter(X[y_km ==0,0], X[y_km == 0,1], s=100, c='red')\n",
    "plt.scatter(X[y_km ==1,0], X[y_km == 1,1], s=100, c='black')\n",
    "plt.scatter(X[y_km ==2,0], X[y_km == 2,1], s=100, c='blue')"
   ]
  },
  {
   "cell_type": "code",
   "execution_count": null,
   "metadata": {},
   "outputs": [],
   "source": []
  },
  {
   "cell_type": "code",
   "execution_count": null,
   "metadata": {},
   "outputs": [],
   "source": []
  },
  {
   "cell_type": "code",
   "execution_count": null,
   "metadata": {},
   "outputs": [],
   "source": []
  },
  {
   "cell_type": "code",
   "execution_count": null,
   "metadata": {},
   "outputs": [],
   "source": [
    "#Number of clusters = 3\n",
    "k = 3 \n",
    "\n",
    "#Random centroids\n",
    "C_x = np.random.randint(0, np.max(X), size=k)\n",
    "C_y = np.random.randint(0, np.max(X), size=k)\n",
    "\n",
    "C = np.array(list(zip(C_x, C_y)), dtype = np.float32)\n",
    "print(C)\n",
    "\n",
    "#Before clustering, just plotting the points\n",
    "fig, ax = plt.subplots(figsize=(10, 8))\n",
    "\n",
    "tick_spacingx = 1\n",
    "tick_spacingy = 4\n",
    "ax.xaxis.set_major_locator(plt.MultipleLocator(tick_spacingx))\n",
    "ax.yaxis.set_major_locator(plt.MultipleLocator(tick_spacingy))\n",
    "\n",
    "plt.scatter(f1, f2, c='#050505', s = 7)\n",
    "plt.scatter(C_x, C_y, marker='*', s = 100, c='g')\n",
    "plt.ylim([-1, 24])\n",
    "plt.xlim([0, 8])\n",
    "plt.xlabel(\"Date\")\n",
    "plt.ylabel(\"Time\")\n",
    "plt.title(\"Date vs Time for LUIDs\")"
   ]
  },
  {
   "cell_type": "code",
   "execution_count": null,
   "metadata": {},
   "outputs": [],
   "source": [
    "#Euclidean Distance Caculator\n",
    "def dist(a, b):\n",
    "    return np.linalg.norm(a - b)"
   ]
  },
  {
   "cell_type": "code",
   "execution_count": null,
   "metadata": {},
   "outputs": [],
   "source": [
    "#To store the value of centroids when it updates\n",
    "C_old = np.zeros(C.shape)\n",
    "\n",
    "#Cluster Lables(0, 1, 2)\n",
    "clusters = np.zeros(len(X))\n",
    "\n",
    "#Error func. - Distance between new centroids and old centroids\n",
    "error = dist(C, C_old)\n",
    "print(error)"
   ]
  },
  {
   "cell_type": "code",
   "execution_count": null,
   "metadata": {},
   "outputs": [],
   "source": [
    "#Loop will run till the error becomes zero\n",
    "while error != 0:\n",
    "    # Assigning each value to its closest cluster\n",
    "    for i in range(len(X)):\n",
    "        distances = dist(X[i], C)\n",
    "        cluster = np.argmin(distances)\n",
    "        clusters[i] = cluster\n",
    "    # Storing the old centroid values\n",
    "    C_old = deepcopy(C)\n",
    "    print(C_old)\n",
    "    # Finding the new centroids by taking the average value\n",
    "    for i in range(k):\n",
    "        points = [X[j] for j in range(len(X)) if clusters[j] == i]\n",
    "        C[i] = np.mean(points, axis=0)\n",
    "    error = dist(C, C_old)\n",
    "    print(error)"
   ]
  },
  {
   "cell_type": "code",
   "execution_count": null,
   "metadata": {},
   "outputs": [],
   "source": [
    "#Plotting after clustering\n",
    "colors = ['r', 'g', 'b', 'y', 'c', 'm']\n",
    "fig, ax = plt.subplots(figsize=(10, 8))\n",
    "plt.ylim([-1, 24])\n",
    "plt.xlim([0, 8])\n",
    "plt.xlabel(\"Date\")\n",
    "plt.ylabel(\"Time\")\n",
    "plt.title(\"Clustering\")\n",
    "\n",
    "tick_spacingx = 4\n",
    "tick_spacingy = 5\n",
    "ax.xaxis.set_major_locator(plt.MultipleLocator(tick_spacingx))\n",
    "ax.yaxis.set_major_locator(plt.MultipleLocator(tick_spacingy))\n",
    "\n",
    "for i in range(k):\n",
    "        points = np.array([X[j] for j in range(len(X)) if clusters[j] == i])\n",
    "        ax.scatter(points[:, 0], points[:, 1], s=7, c=colors[i])\n",
    "ax.scatter(C[:, 0], C[:, 1], marker='*', s=20, c='#050505')\n",
    "\n"
   ]
  },
  {
   "cell_type": "code",
   "execution_count": null,
   "metadata": {},
   "outputs": [],
   "source": [
    "#Final centroid cluster\n",
    "print(C)"
   ]
  }
 ],
 "metadata": {
  "kernelspec": {
   "display_name": "Python 3",
   "language": "python",
   "name": "python3"
  },
  "language_info": {
   "codemirror_mode": {
    "name": "ipython",
    "version": 3
   },
   "file_extension": ".py",
   "mimetype": "text/x-python",
   "name": "python",
   "nbconvert_exporter": "python",
   "pygments_lexer": "ipython3",
   "version": "3.6.5"
  }
 },
 "nbformat": 4,
 "nbformat_minor": 2
}
