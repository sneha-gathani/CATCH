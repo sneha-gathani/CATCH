{
 "cells": [
  {
   "cell_type": "code",
   "execution_count": 1,
   "metadata": {},
   "outputs": [],
   "source": [
    "import csv\n",
    "import os\n",
    "import numpy as np\n",
    "import pandas as pd\n",
    "\n",
    "from matplotlib import pyplot as plt\n",
    "from sklearn.cluster import KMeans\n",
    "from copy import deepcopy\n",
    "from scipy.spatial.distance import cdist"
   ]
  },
  {
   "cell_type": "code",
   "execution_count": 2,
   "metadata": {},
   "outputs": [
    {
     "name": "stdout",
     "output_type": "stream",
     "text": [
      "Input data and shape\n",
      "<class 'pandas.core.frame.DataFrame'>\n"
     ]
    },
    {
     "data": {
      "text/plain": [
       "(46252, 8)"
      ]
     },
     "execution_count": 2,
     "metadata": {},
     "output_type": "execute_result"
    }
   ],
   "source": [
    "#reading data into data\n",
    "data = pd.read_csv('overallnew.csv')\n",
    "print(\"Input data and shape\")\n",
    "print(type(data))\n",
    "data.head()\n",
    "data.shape"
   ]
  },
  {
   "cell_type": "code",
   "execution_count": 3,
   "metadata": {},
   "outputs": [
    {
     "name": "stdout",
     "output_type": "stream",
     "text": [
      "38.99287800000001\n",
      "0.0\n",
      "0.0\n",
      "-76.94402585367764\n",
      "<class 'pandas.core.series.Series'>\n",
      "<class 'pandas.core.series.Series'>\n"
     ]
    }
   ],
   "source": [
    "print(max(data['Latitude']))\n",
    "print(min(data['Latitude']))\n",
    "print(max(data['Longitude']))\n",
    "print(min(data['Longitude']))\n",
    "print(type(data['Latitude']))\n",
    "print(type(data['Longitude']))"
   ]
  },
  {
   "cell_type": "code",
   "execution_count": 4,
   "metadata": {},
   "outputs": [
    {
     "data": {
      "text/plain": [
       "Unnamed: 0      int64\n",
       "LUID           object\n",
       "Date            int64\n",
       "Latitude      float64\n",
       "Longitude     float64\n",
       "Floor           int64\n",
       "BuildingID      int64\n",
       "Time            int64\n",
       "dtype: object"
      ]
     },
     "execution_count": 4,
     "metadata": {},
     "output_type": "execute_result"
    }
   ],
   "source": [
    "#Final data types\n",
    "data.dtypes"
   ]
  },
  {
   "cell_type": "code",
   "execution_count": 5,
   "metadata": {},
   "outputs": [
    {
     "data": {
      "text/html": [
       "<div>\n",
       "<style scoped>\n",
       "    .dataframe tbody tr th:only-of-type {\n",
       "        vertical-align: middle;\n",
       "    }\n",
       "\n",
       "    .dataframe tbody tr th {\n",
       "        vertical-align: top;\n",
       "    }\n",
       "\n",
       "    .dataframe thead th {\n",
       "        text-align: right;\n",
       "    }\n",
       "</style>\n",
       "<table border=\"1\" class=\"dataframe\">\n",
       "  <thead>\n",
       "    <tr style=\"text-align: right;\">\n",
       "      <th></th>\n",
       "      <th>Unnamed: 0</th>\n",
       "      <th>LUID</th>\n",
       "      <th>Date</th>\n",
       "      <th>Latitude</th>\n",
       "      <th>Longitude</th>\n",
       "      <th>Floor</th>\n",
       "      <th>BuildingID</th>\n",
       "      <th>Time</th>\n",
       "    </tr>\n",
       "  </thead>\n",
       "  <tbody>\n",
       "  </tbody>\n",
       "</table>\n",
       "</div>"
      ],
      "text/plain": [
       "Empty DataFrame\n",
       "Columns: [Unnamed: 0, LUID, Date, Latitude, Longitude, Floor, BuildingID, Time]\n",
       "Index: []"
      ]
     },
     "execution_count": 5,
     "metadata": {},
     "output_type": "execute_result"
    }
   ],
   "source": [
    "#Checking if any data is empty\n",
    "data[pd.isnull(data).any(axis=1)]"
   ]
  },
  {
   "cell_type": "code",
   "execution_count": 6,
   "metadata": {},
   "outputs": [],
   "source": [
    "#2 features on which clustering should happen\n",
    "f1 = data['Latitude'].values\n",
    "f2 = data['Longitude'].values"
   ]
  },
  {
   "cell_type": "code",
   "execution_count": 7,
   "metadata": {},
   "outputs": [
    {
     "data": {
      "text/plain": [
       "array([[ 38.99255839, -76.94401871],\n",
       "       [ 38.99255839, -76.94401871],\n",
       "       [ 38.99255839, -76.94401871],\n",
       "       ...,\n",
       "       [ 38.99033796, -76.93636387],\n",
       "       [ 38.99033796, -76.93636387],\n",
       "       [ 38.99037044, -76.93636963]])"
      ]
     },
     "execution_count": 7,
     "metadata": {},
     "output_type": "execute_result"
    }
   ],
   "source": [
    "#zipping the features\n",
    "X = np.array(list(zip(f1, f2)))\n",
    "X"
   ]
  },
  {
   "cell_type": "code",
   "execution_count": 8,
   "metadata": {},
   "outputs": [
    {
     "data": {
      "text/plain": [
       "Text(0.5,1,'Date vs Time for LUIDs')"
      ]
     },
     "execution_count": 8,
     "metadata": {},
     "output_type": "execute_result"
    },
    {
     "data": {
      "image/png": "[encoded data removed]",
      "text/plain": [
       "<Figure size 1008x864 with 1 Axes>"
      ]
     },
     "metadata": {},
     "output_type": "display_data"
    }
   ],
   "source": [
    "#Number of clusters = 3\n",
    "k = 2\n",
    "\n",
    "# #Random centroids\n",
    "# C_x = np.random.randint(0, 8, size=k)\n",
    "# C_y = np.random.randint(-1, 49, size=k)\n",
    "\n",
    "# C = np.array(list(zip(C_x, C_y)), dtype = np.float32)\n",
    "# print(C)\n",
    "\n",
    "#Before clustering, just plotting the points\n",
    "fig, ax = plt.subplots(figsize=(14, 12))\n",
    "\n",
    "tick_spacingx = 0.1\n",
    "tick_spacingy = 0.1\n",
    "ax.xaxis.set_major_locator(plt.MultipleLocator(tick_spacingx))\n",
    "ax.yaxis.set_major_locator(plt.MultipleLocator(tick_spacingy))\n",
    "\n",
    "plt.scatter(f1, f2, c='#050505', s = 2)\n",
    "# plt.scatter(C_x, C_y, marker='*', s = 100, c='g')\n",
    "plt.ylim([-74, -78])\n",
    "plt.xlim([37,40])\n",
    "plt.xlabel(\"Latitude\")\n",
    "plt.ylabel(\"Longitude\")\n",
    "plt.title(\"Date vs Time for LUIDs\")"
   ]
  },
  {
   "cell_type": "code",
   "execution_count": 11,
   "metadata": {},
   "outputs": [
    {
     "data": {
      "text/plain": [
       "array([[ 38.99255839, -76.94401871],\n",
       "       [ 38.99255839, -76.94401871],\n",
       "       [ 38.99255839, -76.94401871],\n",
       "       ...,\n",
       "       [ 38.99033796, -76.93636387],\n",
       "       [ 38.99033796, -76.93636387],\n",
       "       [ 38.99037044, -76.93636963]])"
      ]
     },
     "execution_count": 11,
     "metadata": {},
     "output_type": "execute_result"
    }
   ],
   "source": [
    "X"
   ]
  },
  {
   "cell_type": "code",
   "execution_count": 13,
   "metadata": {},
   "outputs": [
    {
     "data": {
      "image/png": "[encoded data removed]",
      "text/plain": [
       "<Figure size 720x504 with 1 Axes>"
      ]
     },
     "metadata": {},
     "output_type": "display_data"
    }
   ],
   "source": [
    "import scipy.cluster.hierarchy as shc\n",
    "\n",
    "plt.figure(figsize=(10, 7))  \n",
    "plt.title(\"Customer Dendograms\")  \n",
    "dend = shc.dendrogram(shc.linkage(X, method='ward'))  "
   ]
  },
  {
   "cell_type": "code",
   "execution_count": 8,
   "metadata": {},
   "outputs": [
    {
     "data": {
      "text/plain": [
       "array([0, 0, 0, ..., 0, 0, 0])"
      ]
     },
     "execution_count": 8,
     "metadata": {},
     "output_type": "execute_result"
    }
   ],
   "source": [
    "from sklearn.cluster import AgglomerativeClustering\n",
    "\n",
    "cluster = AgglomerativeClustering(n_clusters=, affinity='euclidean', linkage='ward')  \n",
    "cluster.fit_predict(X) "
   ]
  },
  {
   "cell_type": "code",
   "execution_count": 9,
   "metadata": {},
   "outputs": [
    {
     "name": "stdout",
     "output_type": "stream",
     "text": [
      "[0 0 0 ... 0 0 0]\n"
     ]
    }
   ],
   "source": [
    "print(cluster.labels_)"
   ]
  },
  {
   "cell_type": "code",
   "execution_count": 10,
   "metadata": {},
   "outputs": [
    {
     "data": {
      "text/plain": [
       "<matplotlib.collections.PathCollection at 0x10ee52908>"
      ]
     },
     "execution_count": 10,
     "metadata": {},
     "output_type": "execute_result"
    },
    {
     "data": {
      "image/png": "[encoded data removed]",
      "text/plain": [
       "<Figure size 432x288 with 1 Axes>"
      ]
     },
     "metadata": {},
     "output_type": "display_data"
    }
   ],
   "source": [
    "plt.scatter(X[:,0],X[:,1], c=cluster.labels_, cmap='rainbow')  "
   ]
  },
  {
   "cell_type": "code",
   "execution_count": null,
   "metadata": {},
   "outputs": [],
   "source": []
  },
  {
   "cell_type": "code",
   "execution_count": null,
   "metadata": {},
   "outputs": [],
   "source": [
    "#Number of clusters = 3\n",
    "k = 3\n",
    "\n",
    "#Random centroids\n",
    "C_x = np.random.randint(0, 8, size=k)\n",
    "C_y = np.random.randint(-1, 49, size=k)\n",
    "\n",
    "C = np.array(list(zip(C_x, C_y)), dtype = np.float32)\n",
    "print(C)\n",
    "\n",
    "#Before clustering, just plotting the points\n",
    "fig, ax = plt.subplots(figsize=(14, 12))\n",
    "\n",
    "tick_spacingx = 1\n",
    "tick_spacingy = 1\n",
    "ax.xaxis.set_major_locator(plt.MultipleLocator(tick_spacingx))\n",
    "ax.yaxis.set_major_locator(plt.MultipleLocator(tick_spacingy))\n",
    "\n",
    "plt.scatter(f1, f2, c='#050505', s = 2)\n",
    "plt.scatter(C_x, C_y, marker='*', s = 100, c='g')\n",
    "plt.ylim([-1, 49])\n",
    "plt.xlim([0, 8])\n",
    "plt.xlabel(\"Date\")\n",
    "plt.ylabel(\"Time\")\n",
    "plt.title(\"Date vs Time for LUIDs\")"
   ]
  },
  {
   "cell_type": "code",
   "execution_count": null,
   "metadata": {},
   "outputs": [],
   "source": [
    "#Euclidean Distance Caculator\n",
    "def dist(a, b, ax=1):\n",
    "    return np.linalg.norm(a - b, axis=ax)"
   ]
  },
  {
   "cell_type": "code",
   "execution_count": null,
   "metadata": {},
   "outputs": [],
   "source": [
    "#To store the value of centroids when it updates\n",
    "C_old = np.zeros(C.shape)\n",
    "\n",
    "#Cluster Lables(0, 1, 2)\n",
    "clusters = np.zeros(len(X))\n",
    "\n",
    "#Error func. - Distance between new centroids and old centroids\n",
    "error = dist(C, C_old, None)\n",
    "print(error)"
   ]
  },
  {
   "cell_type": "code",
   "execution_count": null,
   "metadata": {},
   "outputs": [],
   "source": [
    "#Loop will run till the error becomes zero\n",
    "while error != 0:\n",
    "    # Assigning each value to its closest cluster\n",
    "    for i in range(len(X)):\n",
    "        distances = dist(X[i], C)\n",
    "        cluster = np.argmin(distances)\n",
    "        clusters[i] = cluster\n",
    "    # Storing the old centroid values\n",
    "    C_old = deepcopy(C)\n",
    "    print(C_old)\n",
    "    # Finding the new centroids by taking the average value\n",
    "    for i in range(k):\n",
    "        points = [X[j] for j in range(len(X)) if clusters[j] == i]\n",
    "        C[i] = np.mean(points, axis=0)\n",
    "    error = dist(C, C_old, None)\n",
    "    print(error)"
   ]
  },
  {
   "cell_type": "code",
   "execution_count": null,
   "metadata": {},
   "outputs": [],
   "source": [
    " #Plotting after clustering\n",
    "colors = ['r', 'g', 'b', 'y', 'c', 'm']\n",
    "fig, ax = plt.subplots(figsize=(14, 12))\n",
    "plt.ylim([-1, 49])\n",
    "plt.xlim([0, 8])\n",
    "plt.xlabel(\"Date\")\n",
    "plt.ylabel(\"Time\")\n",
    "plt.title(\"Clustering\")\n",
    "\n",
    "tick_spacingx = 1\n",
    "tick_spacingy = 1\n",
    "ax.xaxis.set_major_locator(plt.MultipleLocator(tick_spacingx))\n",
    "ax.yaxis.set_major_locator(plt.MultipleLocator(tick_spacingy))\n",
    "\n",
    "for i in range(k):\n",
    "        points = np.array([X[j] for j in range(len(X)) if clusters[j] == i])\n",
    "        ax.scatter(points[:, 0], points[:, 1], s=7, c=colors[i])\n",
    "ax.scatter(C[:, 0], C[:, 1], marker='*', s=20, c='#050505')\n",
    "\n"
   ]
  },
  {
   "cell_type": "code",
   "execution_count": null,
   "metadata": {},
   "outputs": [],
   "source": [
    "#Final centroid cluster\n",
    "print(C)"
   ]
  },
  {
   "cell_type": "code",
   "execution_count": null,
   "metadata": {},
   "outputs": [],
   "source": []
  }
 ],
 "metadata": {
  "kernelspec": {
   "display_name": "Python 3",
   "language": "python",
   "name": "python3"
  },
  "language_info": {
   "codemirror_mode": {
    "name": "ipython",
    "version": 3
   },
   "file_extension": ".py",
   "mimetype": "text/x-python",
   "name": "python",
   "nbconvert_exporter": "python",
   "pygments_lexer": "ipython3",
   "version": "3.6.5"
  }
 },
 "nbformat": 4,
 "nbformat_minor": 2
}
