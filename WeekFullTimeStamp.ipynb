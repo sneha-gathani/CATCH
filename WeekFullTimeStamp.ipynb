{
 "cells": [
  {
   "cell_type": "code",
   "execution_count": 3,
   "metadata": {},
   "outputs": [],
   "source": [
    "import csv\n",
    "import os\n",
    "import numpy as np\n",
    "import pandas as pd\n",
    "\n",
    "from matplotlib import pyplot as plt\n",
    "from sklearn.cluster import KMeans\n",
    "from copy import deepcopy\n",
    "from scipy.spatial.distance import cdist"
   ]
  },
  {
   "cell_type": "code",
   "execution_count": 3,
   "metadata": {},
   "outputs": [],
   "source": [
    "#File1 - Participant Data\n",
    "AppParticipationFields = ['LUID', 'Date', 'Hour', 'Instances']\n",
    "\n",
    "AppParticipation = [] #Array of dictionary having List of rows in file\n",
    "intermediate = [] #intermediate array to make numpy\n",
    "with open('AppParticipation_year2.csv', 'r') as f:\n",
    "    csv_f = csv.reader(f)\n",
    "    fields = next(csv_f)\n",
    "    mylist = list(csv_f)\n",
    "for i in range(0, len(mylist)):\n",
    "    string = mylist[i]\n",
    "    values = string[0].split('\\t')\n",
    "    # intermediate.append(values)\n",
    "    AppParticipation.append({AppParticipationFields[j]:values[j] for j in range(0,len(AppParticipationFields))})\n",
    "#print(AppParticipation)"
   ]
  },
  {
   "cell_type": "code",
   "execution_count": 4,
   "metadata": {},
   "outputs": [],
   "source": [
    "#File2 - Location Data\n",
    "LocationFields = ['LUID', 'Date', 'Latitude', 'Longitude', 'Floor', 'BuildingID', 'Time']\n",
    "\n",
    "LocationData = [] #Array of dictionary having List of rows in file\n",
    "with open('EstIndoorLocation_year2.csv', 'r') as f1:\n",
    "    csv_f1 = csv.reader(f1)\n",
    "    fields1 = next(csv_f1)\n",
    "    mylist1 = list(csv_f1)\n",
    "for i in range(0, len(mylist1)):\n",
    "    string1 = mylist1[i]\n",
    "    values = string1[0].split('\\t')\n",
    "    datetime = values[1].split(\" \")\n",
    "    date = datetime[0]\n",
    "    time = datetime[1]\n",
    "    values[1] = date\n",
    "    values.append(time)\n",
    "    LocationData.append({LocationFields[j]:values[j] for j in range(0,len(LocationFields))})"
   ]
  },
  {
   "cell_type": "code",
   "execution_count": 5,
   "metadata": {},
   "outputs": [],
   "source": [
    "# threshhold = 10 #threshhold for minimum number of instances\n",
    "#What is happening - If the minimum threshold is not met in the Participation array, remove the user from the Location array\n",
    "i=0\n",
    "j=0\n",
    "count = len(LocationData)-1\n",
    "\n",
    "while i<len(LocationData):\n",
    "    while j<len(AppParticipation):\n",
    "        if(AppParticipation[j][\"LUID\"] == LocationData[i][\"LUID\"] and (int(AppParticipation[j][\"Instances\"]))<10):\n",
    "            # print(AppParticipation[j])\n",
    "            count=count-1\n",
    "            del LocationData[i]\n",
    "        j=j+1\n",
    "    i=i+1\n",
    "\n",
    "# #Writing final data to csv file\n",
    "os.remove(\"fulldatetime.csv\")\n",
    "csv_file = \"fulldatetime.csv\"\n",
    "try:\n",
    "    with open(csv_file, 'w') as csvfile:\n",
    "        writer = csv.DictWriter(csvfile, fieldnames=LocationFields)\n",
    "        writer.writeheader()\n",
    "        for data in LocationData:\n",
    "            writer.writerow(data)\n",
    "except IOError:\n",
    "    print(\"I/O error\")"
   ]
  },
  {
   "cell_type": "code",
   "execution_count": 4,
   "metadata": {},
   "outputs": [
    {
     "name": "stdout",
     "output_type": "stream",
     "text": [
      "Input data and shape\n",
      "<class 'pandas.core.frame.DataFrame'>\n"
     ]
    },
    {
     "data": {
      "text/plain": [
       "(576574, 7)"
      ]
     },
     "execution_count": 4,
     "metadata": {},
     "output_type": "execute_result"
    }
   ],
   "source": [
    "#reading data into data\n",
    "data = pd.read_csv('fulldatetime.csv')\n",
    "print(\"Input data and shape\")\n",
    "print(type(data))\n",
    "data.head()\n",
    "data.shape"
   ]
  },
  {
   "cell_type": "code",
   "execution_count": 32,
   "metadata": {},
   "outputs": [
    {
     "name": "stdout",
     "output_type": "stream",
     "text": [
      "38.99287800000001\n",
      "0.0\n",
      "0.0\n",
      "-76.94402585367764\n",
      "<class 'pandas.core.series.Series'>\n",
      "<class 'pandas.core.series.Series'>\n"
     ]
    }
   ],
   "source": [
    "print(max(data['Latitude']))\n",
    "print(min(data['Latitude']))\n",
    "print(max(data['Longitude']))\n",
    "print(min(data['Longitude']))\n",
    "print(type(data['Latitude']))\n",
    "print(type(data['Longitude']))"
   ]
  },
  {
   "cell_type": "code",
   "execution_count": 7,
   "metadata": {},
   "outputs": [
    {
     "data": {
      "text/html": [
       "<div>\n",
       "<style scoped>\n",
       "    .dataframe tbody tr th:only-of-type {\n",
       "        vertical-align: middle;\n",
       "    }\n",
       "\n",
       "    .dataframe tbody tr th {\n",
       "        vertical-align: top;\n",
       "    }\n",
       "\n",
       "    .dataframe thead th {\n",
       "        text-align: right;\n",
       "    }\n",
       "</style>\n",
       "<table border=\"1\" class=\"dataframe\">\n",
       "  <thead>\n",
       "    <tr style=\"text-align: right;\">\n",
       "      <th></th>\n",
       "      <th>LUID</th>\n",
       "      <th>Date</th>\n",
       "      <th>Latitude</th>\n",
       "      <th>Longitude</th>\n",
       "      <th>Floor</th>\n",
       "      <th>BuildingID</th>\n",
       "      <th>Time</th>\n",
       "    </tr>\n",
       "  </thead>\n",
       "  <tbody>\n",
       "  </tbody>\n",
       "</table>\n",
       "</div>"
      ],
      "text/plain": [
       "Empty DataFrame\n",
       "Columns: [LUID, Date, Latitude, Longitude, Floor, BuildingID, Time]\n",
       "Index: []"
      ]
     },
     "execution_count": 7,
     "metadata": {},
     "output_type": "execute_result"
    }
   ],
   "source": [
    "#Checking if any data is empty\n",
    "data[pd.isnull(data).any(axis=1)]"
   ]
  },
  {
   "cell_type": "code",
   "execution_count": 9,
   "metadata": {},
   "outputs": [
    {
     "name": "stdout",
     "output_type": "stream",
     "text": [
      "53        38.992558\n",
      "54        38.992558\n",
      "55        38.992558\n",
      "56        38.992558\n",
      "57        38.992787\n",
      "58        38.992787\n",
      "59        38.992844\n",
      "60        38.992844\n",
      "61        38.992844\n",
      "62        38.992844\n",
      "63        38.992844\n",
      "64        38.992844\n",
      "65        38.992844\n",
      "11514     38.991985\n",
      "11515     38.991985\n",
      "11516     38.991985\n",
      "11517     38.991985\n",
      "11518     38.991985\n",
      "11519     38.991985\n",
      "11520     38.991985\n",
      "11521     38.991985\n",
      "11522     38.991985\n",
      "11523     38.991985\n",
      "11524     38.991985\n",
      "11525     38.991985\n",
      "11526     38.991985\n",
      "11527     38.991985\n",
      "11528     38.991985\n",
      "11529     38.991985\n",
      "11530     38.991985\n",
      "            ...    \n",
      "502739    38.990357\n",
      "502740    38.990357\n",
      "502741    38.990361\n",
      "502742    38.990369\n",
      "502743    38.990369\n",
      "502744    38.990369\n",
      "502745    38.990369\n",
      "502746    38.990372\n",
      "502747    38.990372\n",
      "502748    38.990374\n",
      "502749    38.990358\n",
      "502750    38.990371\n",
      "502751    38.990371\n",
      "502752    38.990371\n",
      "502753    38.990371\n",
      "502754    38.990371\n",
      "502755    38.990372\n",
      "502756    38.990372\n",
      "502757    38.990372\n",
      "502758    38.990369\n",
      "502759    38.990366\n",
      "502760    38.990366\n",
      "502761    38.990366\n",
      "502762    38.990366\n",
      "502763    38.990366\n",
      "502764    38.990366\n",
      "502765    38.990366\n",
      "502766    38.990366\n",
      "502767    38.990371\n",
      "502775    38.990366\n",
      "Name: Latitude, Length: 12968, dtype: float64\n",
      " \n",
      "53       -76.944019\n",
      "54       -76.944019\n",
      "55       -76.944019\n",
      "56       -76.944019\n",
      "57       -76.942736\n",
      "58       -76.942736\n",
      "59       -76.942698\n",
      "60       -76.942698\n",
      "61       -76.942698\n",
      "62       -76.942698\n",
      "63       -76.942698\n",
      "64       -76.942698\n",
      "65       -76.942698\n",
      "11514    -76.942100\n",
      "11515    -76.942100\n",
      "11516    -76.942100\n",
      "11517    -76.942100\n",
      "11518    -76.942100\n",
      "11519    -76.942100\n",
      "11520    -76.942100\n",
      "11521    -76.942100\n",
      "11522    -76.942100\n",
      "11523    -76.942100\n",
      "11524    -76.942100\n",
      "11525    -76.942100\n",
      "11526    -76.942100\n",
      "11527    -76.942100\n",
      "11528    -76.942100\n",
      "11529    -76.942100\n",
      "11530    -76.942100\n",
      "            ...    \n",
      "502739   -76.936338\n",
      "502740   -76.936338\n",
      "502741   -76.936399\n",
      "502742   -76.936351\n",
      "502743   -76.936351\n",
      "502744   -76.936351\n",
      "502745   -76.936351\n",
      "502746   -76.936337\n",
      "502747   -76.936337\n",
      "502748   -76.936345\n",
      "502749   -76.936334\n",
      "502750   -76.936351\n",
      "502751   -76.936351\n",
      "502752   -76.936351\n",
      "502753   -76.936351\n",
      "502754   -76.936351\n",
      "502755   -76.936337\n",
      "502756   -76.936337\n",
      "502757   -76.936337\n",
      "502758   -76.936351\n",
      "502759   -76.936342\n",
      "502760   -76.936342\n",
      "502761   -76.936342\n",
      "502762   -76.936342\n",
      "502763   -76.936342\n",
      "502764   -76.936342\n",
      "502765   -76.936342\n",
      "502766   -76.936342\n",
      "502767   -76.936351\n",
      "502775   -76.936342\n",
      "Name: Longitude, Length: 12968, dtype: float64\n"
     ]
    }
   ],
   "source": [
    "date = ['2018-02-09']\n",
    "week = data[data.Date.isin(date)]\n",
    "week.shape\n",
    "print(week['Latitude'])\n",
    "print(\" \")\n",
    "print(week['Longitude'])"
   ]
  },
  {
   "cell_type": "code",
   "execution_count": 8,
   "metadata": {},
   "outputs": [
    {
     "data": {
      "text/plain": [
       "(46252, 7)"
      ]
     },
     "execution_count": 8,
     "metadata": {},
     "output_type": "execute_result"
    }
   ],
   "source": [
    "#taking only a week's inputs - 09/02/18-15/02/18\n",
    "date = ['2018-02-09', '2018-02-10', '2018-02-11', '2018-02-12', '2018-02-13', '2018-02-14', '2018-02-15']\n",
    "week = data[data.Date.isin(date)]\n",
    "week.shape"
   ]
  },
  {
   "cell_type": "code",
   "execution_count": 9,
   "metadata": {},
   "outputs": [
    {
     "name": "stdout",
     "output_type": "stream",
     "text": [
      "<class 'str'>\n",
      "['20:18:09' '20:17:38' '20:19:08' ... '23:58:32' '23:55:32' '23:58:32']\n"
     ]
    }
   ],
   "source": [
    "#2 features on which clustering should happen\n",
    "f1 = week['Date'].values\n",
    "f2 = week['Time'].values\n",
    "print(type(f2[0]))\n",
    "print(f2)"
   ]
  },
  {
   "cell_type": "code",
   "execution_count": 10,
   "metadata": {},
   "outputs": [],
   "source": [
    "#Changing the time to ttime in seconds\n",
    "for i in range(0,len(f2)):\n",
    "    values = f2[i].split(\":\")\n",
    "    timestamp = (int(values[0])*60*60)+(int(values[1])*60)+int(values[2])\n",
    "    f2[i]=timestamp"
   ]
  },
  {
   "cell_type": "code",
   "execution_count": 11,
   "metadata": {},
   "outputs": [],
   "source": [
    "### Binning the dates to approxiations or aggregating times to bins\n",
    "class RangeDict(dict):\n",
    "    def __getitem__(self, item):\n",
    "        if type(item) != range: # or xrange in Python 2\n",
    "            for key in self:\n",
    "                if item in key:\n",
    "                    return self[key]\n",
    "        else:\n",
    "            return super().__getitem__(item)\n",
    "        \n",
    "rangedict = RangeDict({range(0,1800): 1, range(1800,3600): 2, range(3600,5400): 3, range(5400,7200): 4,\n",
    "                       range(7200,9000): 5, range(9000,10800): 6, range(10800,12600): 7, range(12600,14400): 8,\n",
    "                       range(14400,16200): 9, range(16200,18000): 10, range(18000,19800): 11, range(19800,21600): 12,\n",
    "                       range(21600,23400): 13, range(23400,25200): 14, range(25200,27000): 15, range(1800*15,1800*16): 16,\n",
    "                       range(1800*16,1800*17): 17, range(1800*17,1800*18): 18, range(1800*18,1800*19): 19, range(1800*19,1800*20): 20,\n",
    "                       range(1800*20,1800*21): 21, range(1800*21,1800*22): 22, range(1800*22,1800*23): 23, range(1800*23,1800*24): 24,\n",
    "                       range(1800*24,1800*25): 25, range(1800*25,1800*26): 26, range(1800*26,1800*27): 27, range(1800*27,1800*28): 28,\n",
    "                       range(1800*28,1800*29): 29, range(1800*29,1800*30): 30, range(1800*30,1800*31): 31, range(1800*31,1800*32): 32,\n",
    "                       range(1800*32,1800*33): 33, range(1800*33,1800*34): 34, range(1800*34,1800*35): 35, range(1800*35,1800*36): 36,\n",
    "                       range(1800*36,1800*37): 37, range(1800*37,1800*38): 38, range(1800*38,1800*39): 39, range(1800*39,1800*40): 40,\n",
    "                       range(1800*40,1800*41): 41, range(1800*41,1800*42): 42, range(1800*42,1800*43): 43, range(1800*43,1800*44): 44,\n",
    "                       range(1800*44,1800*45): 45, range(1800*45,1800*46): 46, range(1800*46,1800*47): 47, range(1800*47,1800*48): 48, range(1800*48,1800*49): 49})\n",
    "for i in range(0, len(f2)):\n",
    "    val = rangedict[f2[i]]\n",
    "    #print(val)\n",
    "    f2[i]=val"
   ]
  },
  {
   "cell_type": "code",
   "execution_count": 12,
   "metadata": {},
   "outputs": [],
   "source": [
    "#Binning the dates of the week\n",
    "for i in range(len(f1)):\n",
    "    if(f1[i]=='2018-02-09'):\n",
    "        f1[i]=1\n",
    "    elif(f1[i]=='2018-02-10'):\n",
    "        f1[i]=2\n",
    "    elif(f1[i]=='2018-02-11'):\n",
    "        f1[i]=3\n",
    "    elif(f1[i]=='2018-02-12'):\n",
    "        f1[i]=4\n",
    "    elif(f1[i]=='2018-02-13'):\n",
    "        f1[i]=5\n",
    "    elif(f1[i]=='2018-02-14'):\n",
    "        f1[i]=6\n",
    "    elif(f1[i]=='2018-02-15'):\n",
    "        f1[i]=7"
   ]
  },
  {
   "cell_type": "code",
   "execution_count": 13,
   "metadata": {},
   "outputs": [],
   "source": [
    "#Writing another file\n",
    "os.remove(\"overallnew.csv\")\n",
    "FinalData = \"overallnew.csv\"\n",
    "week.to_csv(FinalData, sep=',', encoding='utf-8')"
   ]
  },
  {
   "cell_type": "code",
   "execution_count": 14,
   "metadata": {},
   "outputs": [
    {
     "name": "stdout",
     "output_type": "stream",
     "text": [
      "Input data and shape\n",
      "<class 'pandas.core.frame.DataFrame'>\n"
     ]
    },
    {
     "data": {
      "text/plain": [
       "(46252, 8)"
      ]
     },
     "execution_count": 14,
     "metadata": {},
     "output_type": "execute_result"
    }
   ],
   "source": [
    "#reading data into data\n",
    "data = pd.read_csv('overallnew.csv')\n",
    "print(\"Input data and shape\")\n",
    "print(type(data))\n",
    "data.head()\n",
    "data.shape"
   ]
  },
  {
   "cell_type": "code",
   "execution_count": 15,
   "metadata": {},
   "outputs": [
    {
     "data": {
      "text/plain": [
       "Unnamed: 0      int64\n",
       "LUID           object\n",
       "Date            int64\n",
       "Latitude      float64\n",
       "Longitude     float64\n",
       "Floor           int64\n",
       "BuildingID      int64\n",
       "Time            int64\n",
       "dtype: object"
      ]
     },
     "execution_count": 15,
     "metadata": {},
     "output_type": "execute_result"
    }
   ],
   "source": [
    "#Final data types\n",
    "data.dtypes"
   ]
  },
  {
   "cell_type": "code",
   "execution_count": 16,
   "metadata": {},
   "outputs": [
    {
     "data": {
      "text/html": [
       "<div>\n",
       "<style scoped>\n",
       "    .dataframe tbody tr th:only-of-type {\n",
       "        vertical-align: middle;\n",
       "    }\n",
       "\n",
       "    .dataframe tbody tr th {\n",
       "        vertical-align: top;\n",
       "    }\n",
       "\n",
       "    .dataframe thead th {\n",
       "        text-align: right;\n",
       "    }\n",
       "</style>\n",
       "<table border=\"1\" class=\"dataframe\">\n",
       "  <thead>\n",
       "    <tr style=\"text-align: right;\">\n",
       "      <th></th>\n",
       "      <th>Unnamed: 0</th>\n",
       "      <th>LUID</th>\n",
       "      <th>Date</th>\n",
       "      <th>Latitude</th>\n",
       "      <th>Longitude</th>\n",
       "      <th>Floor</th>\n",
       "      <th>BuildingID</th>\n",
       "      <th>Time</th>\n",
       "    </tr>\n",
       "  </thead>\n",
       "  <tbody>\n",
       "  </tbody>\n",
       "</table>\n",
       "</div>"
      ],
      "text/plain": [
       "Empty DataFrame\n",
       "Columns: [Unnamed: 0, LUID, Date, Latitude, Longitude, Floor, BuildingID, Time]\n",
       "Index: []"
      ]
     },
     "execution_count": 16,
     "metadata": {},
     "output_type": "execute_result"
    }
   ],
   "source": [
    "#Checking if any data is empty\n",
    "data[pd.isnull(data).any(axis=1)]"
   ]
  },
  {
   "cell_type": "code",
   "execution_count": 17,
   "metadata": {},
   "outputs": [],
   "source": [
    "#2 features on which clustering should happen\n",
    "f1 = data['Date'].values\n",
    "f2 = data['Time'].values"
   ]
  },
  {
   "cell_type": "code",
   "execution_count": 18,
   "metadata": {},
   "outputs": [],
   "source": [
    "#zipping the features\n",
    "X = np.array(list(zip(f1, f2)))"
   ]
  },
  {
   "cell_type": "code",
   "execution_count": 19,
   "metadata": {},
   "outputs": [
    {
     "name": "stdout",
     "output_type": "stream",
     "text": [
      "[[ 5. 43.]\n",
      " [ 3. 44.]\n",
      " [ 2.  3.]]\n"
     ]
    },
    {
     "data": {
      "text/plain": [
       "Text(0.5,1,'Date vs Time for LUIDs')"
      ]
     },
     "execution_count": 19,
     "metadata": {},
     "output_type": "execute_result"
    },
    {
     "data": {
      "image/png": "[encoded data removed]",
      "text/plain": [
       "<Figure size 1008x864 with 1 Axes>"
      ]
     },
     "metadata": {},
     "output_type": "display_data"
    }
   ],
   "source": [
    "#Number of clusters = 3\n",
    "k = 3\n",
    "\n",
    "#Random centroids\n",
    "C_x = np.random.randint(0, 8, size=k)\n",
    "C_y = np.random.randint(-1, 49, size=k)\n",
    "\n",
    "C = np.array(list(zip(C_x, C_y)), dtype = np.float32)\n",
    "print(C)\n",
    "\n",
    "#Before clustering, just plotting the points\n",
    "fig, ax = plt.subplots(figsize=(14, 12))\n",
    "\n",
    "tick_spacingx = 1\n",
    "tick_spacingy = 1\n",
    "ax.xaxis.set_major_locator(plt.MultipleLocator(tick_spacingx))\n",
    "ax.yaxis.set_major_locator(plt.MultipleLocator(tick_spacingy))\n",
    "\n",
    "plt.scatter(f1, f2, c='#050505', s = 2)\n",
    "plt.scatter(C_x, C_y, marker='*', s = 100, c='g')\n",
    "plt.ylim([-1, 49])\n",
    "plt.xlim([0, 8])\n",
    "plt.xlabel(\"Date\")\n",
    "plt.ylabel(\"Time\")\n",
    "plt.title(\"Date vs Time for LUIDs\")"
   ]
  },
  {
   "cell_type": "code",
   "execution_count": 20,
   "metadata": {},
   "outputs": [],
   "source": [
    "#Euclidean Distance Caculator\n",
    "def dist(a, b, ax=1):\n",
    "    return np.linalg.norm(a - b, axis=ax)"
   ]
  },
  {
   "cell_type": "code",
   "execution_count": 21,
   "metadata": {},
   "outputs": [
    {
     "name": "stdout",
     "output_type": "stream",
     "text": [
      "61.90315016216864\n"
     ]
    }
   ],
   "source": [
    "#To store the value of centroids when it updates\n",
    "C_old = np.zeros(C.shape)\n",
    "\n",
    "#Cluster Lables(0, 1, 2)\n",
    "clusters = np.zeros(len(X))\n",
    "\n",
    "#Error func. - Distance between new centroids and old centroids\n",
    "error = dist(C, C_old, None)\n",
    "print(error)"
   ]
  },
  {
   "cell_type": "code",
   "execution_count": 26,
   "metadata": {},
   "outputs": [
    {
     "name": "stdout",
     "output_type": "stream",
     "text": [
      "[[ 2.9515605 27.815649 ]\n",
      " [ 4.228308  42.139603 ]\n",
      " [ 3.6657186  9.666563 ]]\n",
      "0.9995878\n",
      "[[ 2.815196  26.927677 ]\n",
      " [ 4.294962  41.892372 ]\n",
      " [ 3.7011578  9.312635 ]]\n",
      "0.40857702\n",
      "[[ 2.8628042 26.607784 ]\n",
      " [ 4.2044463 41.659683 ]\n",
      " [ 3.7011578  9.312635 ]]\n",
      "0.88364977\n",
      "[[ 2.717362  25.826298 ]\n",
      " [ 4.2540126 41.48373  ]\n",
      " [ 3.763294   8.978442 ]]\n",
      "0.6275148\n",
      "[[ 2.8394487 25.288803 ]\n",
      " [ 4.1732206 41.22776  ]\n",
      " [ 3.728704   8.849118 ]]\n",
      "0.5293063\n",
      "[[ 2.7142618 24.830658 ]\n",
      " [ 4.2110987 41.11751  ]\n",
      " [ 3.7845166  8.65446  ]]\n",
      "0.7783314\n",
      "[[ 2.7823644 24.147451 ]\n",
      " [ 4.2372694 40.930027 ]\n",
      " [ 3.7353837  8.344394 ]]\n",
      "0.34568164\n",
      "[[ 2.8180826 23.872482 ]\n",
      " [ 4.172849  40.73391  ]\n",
      " [ 3.7353837  8.344394 ]]\n",
      "0.19326101\n",
      "[[ 2.7814429 23.713827 ]\n",
      " [ 4.172849  40.73391  ]\n",
      " [ 3.7704086  8.246367 ]]\n",
      "0.26524657\n",
      "[[ 2.738604  23.483303 ]\n",
      " [ 4.1925526 40.67304  ]\n",
      " [ 3.7882304  8.141639 ]]\n",
      "0.4825612\n",
      "[[ 2.7958002 23.068226 ]\n",
      " [ 4.212173  40.57008  ]\n",
      " [ 3.7465868  7.9304867]]\n",
      "0.38812643\n",
      "[[ 2.8597395 22.742882 ]\n",
      " [ 4.1709023 40.38583  ]\n",
      " [ 3.7200043  7.8645535]]\n",
      "0.14833532\n",
      "[[ 2.8832152 22.626028 ]\n",
      " [ 4.139671  40.303234 ]\n",
      " [ 3.7200043  7.8645535]]\n",
      "0.0\n"
     ]
    }
   ],
   "source": [
    "#Loop will run till the error becomes zero\n",
    "while error != 0:\n",
    "    # Assigning each value to its closest cluster\n",
    "    for i in range(len(X)):\n",
    "        distances = dist(X[i], C)\n",
    "        cluster = np.argmin(distances)\n",
    "        clusters[i] = cluster\n",
    "    # Storing the old centroid values\n",
    "    C_old = deepcopy(C)\n",
    "    print(C_old)\n",
    "    # Finding the new centroids by taking the average value\n",
    "    for i in range(k):\n",
    "        points = [X[j] for j in range(len(X)) if clusters[j] == i]\n",
    "        C[i] = np.mean(points, axis=0)\n",
    "    error = dist(C, C_old, None)\n",
    "    print(error)"
   ]
  },
  {
   "cell_type": "code",
   "execution_count": 27,
   "metadata": {},
   "outputs": [
    {
     "data": {
      "text/plain": [
       "<matplotlib.collections.PathCollection at 0x1a3e2f2780>"
      ]
     },
     "execution_count": 27,
     "metadata": {},
     "output_type": "execute_result"
    },
    {
     "data": {
      "image/png": "[encoded data removed]",
      "text/plain": [
       "<Figure size 1008x864 with 1 Axes>"
      ]
     },
     "metadata": {},
     "output_type": "display_data"
    }
   ],
   "source": [
    " #Plotting after clustering\n",
    "colors = ['r', 'g', 'b', 'y', 'c', 'm']\n",
    "fig, ax = plt.subplots(figsize=(14, 12))\n",
    "plt.ylim([-1, 49])\n",
    "plt.xlim([0, 8])\n",
    "plt.xlabel(\"Date\")\n",
    "plt.ylabel(\"Time\")\n",
    "plt.title(\"Clustering\")\n",
    "\n",
    "tick_spacingx = 1\n",
    "tick_spacingy = 1\n",
    "ax.xaxis.set_major_locator(plt.MultipleLocator(tick_spacingx))\n",
    "ax.yaxis.set_major_locator(plt.MultipleLocator(tick_spacingy))\n",
    "\n",
    "for i in range(k):\n",
    "        points = np.array([X[j] for j in range(len(X)) if clusters[j] == i])\n",
    "        ax.scatter(points[:, 0], points[:, 1], s=7, c=colors[i])\n",
    "ax.scatter(C[:, 0], C[:, 1], marker='*', s=20, c='#050505')\n",
    "\n"
   ]
  },
  {
   "cell_type": "code",
   "execution_count": 28,
   "metadata": {},
   "outputs": [
    {
     "name": "stdout",
     "output_type": "stream",
     "text": [
      "[[ 2.8832152 22.626028 ]\n",
      " [ 4.139671  40.303234 ]\n",
      " [ 3.7200043  7.8645535]]\n"
     ]
    }
   ],
   "source": [
    "#Final centroid cluster\n",
    "print(C)"
   ]
  },
  {
   "cell_type": "code",
   "execution_count": null,
   "metadata": {},
   "outputs": [],
   "source": []
  }
 ],
 "metadata": {
  "kernelspec": {
   "display_name": "Python 3",
   "language": "python",
   "name": "python3"
  },
  "language_info": {
   "codemirror_mode": {
    "name": "ipython",
    "version": 3
   },
   "file_extension": ".py",
   "mimetype": "text/x-python",
   "name": "python",
   "nbconvert_exporter": "python",
   "pygments_lexer": "ipython3",
   "version": "3.6.5"
  }
 },
 "nbformat": 4,
 "nbformat_minor": 2
}
