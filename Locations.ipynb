{
 "cells": [
  {
   "cell_type": "code",
   "execution_count": 1,
   "metadata": {},
   "outputs": [],
   "source": [
    "import csv\n",
    "import os\n",
    "import numpy as np\n",
    "import pandas as pd\n",
    "import matplotlib\n",
    "from matplotlib import pyplot as plt\n",
    "from sklearn.cluster import KMeans\n",
    "from copy import deepcopy\n",
    "from scipy.spatial.distance import cdist"
   ]
  },
  {
   "cell_type": "code",
   "execution_count": 2,
   "metadata": {},
   "outputs": [
    {
     "name": "stdout",
     "output_type": "stream",
     "text": [
      "Input data and shape\n",
      "<class 'pandas.core.frame.DataFrame'>\n"
     ]
    },
    {
     "data": {
      "text/plain": [
       "(576574, 7)"
      ]
     },
     "execution_count": 2,
     "metadata": {},
     "output_type": "execute_result"
    }
   ],
   "source": [
    "#reading data into data\n",
    "data = pd.read_csv('fulldatetime.csv')\n",
    "print(\"Input data and shape\")\n",
    "print(type(data))\n",
    "data.head()\n",
    "data.shape"
   ]
  },
  {
   "cell_type": "code",
   "execution_count": 41,
   "metadata": {},
   "outputs": [
    {
     "ename": "TypeError",
     "evalue": "only list-like objects are allowed to be passed to isin(), you passed a [int]",
     "output_type": "error",
     "traceback": [
      "\u001b[0;31m---------------------------------------------------------------------------\u001b[0m",
      "\u001b[0;31mTypeError\u001b[0m                                 Traceback (most recent call last)",
      "\u001b[0;32m<ipython-input-41-876204014a49>\u001b[0m in \u001b[0;36m<module>\u001b[0;34m()\u001b[0m\n\u001b[1;32m      2\u001b[0m \u001b[0mfloor\u001b[0m \u001b[0;34m=\u001b[0m \u001b[0;36m4\u001b[0m\u001b[0;34m\u001b[0m\u001b[0m\n\u001b[1;32m      3\u001b[0m \u001b[0mweek\u001b[0m \u001b[0;34m=\u001b[0m \u001b[0mdata\u001b[0m\u001b[0;34m[\u001b[0m\u001b[0mdata\u001b[0m\u001b[0;34m.\u001b[0m\u001b[0mDate\u001b[0m\u001b[0;34m.\u001b[0m\u001b[0misin\u001b[0m\u001b[0;34m(\u001b[0m\u001b[0mdate\u001b[0m\u001b[0;34m)\u001b[0m\u001b[0;34m]\u001b[0m\u001b[0;34m\u001b[0m\u001b[0m\n\u001b[0;32m----> 4\u001b[0;31m \u001b[0mweek\u001b[0m \u001b[0;34m=\u001b[0m \u001b[0mweek\u001b[0m\u001b[0;34m[\u001b[0m\u001b[0mweek\u001b[0m\u001b[0;34m.\u001b[0m\u001b[0mFloor\u001b[0m\u001b[0;34m.\u001b[0m\u001b[0misin\u001b[0m\u001b[0;34m(\u001b[0m\u001b[0mfloor\u001b[0m\u001b[0;34m)\u001b[0m\u001b[0;34m]\u001b[0m\u001b[0;34m\u001b[0m\u001b[0m\n\u001b[0m\u001b[1;32m      5\u001b[0m \u001b[0mprint\u001b[0m\u001b[0;34m(\u001b[0m\u001b[0mweek\u001b[0m\u001b[0;34m.\u001b[0m\u001b[0mshape\u001b[0m\u001b[0;34m)\u001b[0m\u001b[0;34m\u001b[0m\u001b[0m\n\u001b[1;32m      6\u001b[0m \u001b[0mprint\u001b[0m\u001b[0;34m(\u001b[0m\u001b[0mweek\u001b[0m\u001b[0;34m[\u001b[0m\u001b[0;34m'Latitude'\u001b[0m\u001b[0;34m]\u001b[0m\u001b[0;34m.\u001b[0m\u001b[0mmax\u001b[0m\u001b[0;34m(\u001b[0m\u001b[0;34m)\u001b[0m\u001b[0;34m)\u001b[0m\u001b[0;34m\u001b[0m\u001b[0m\n",
      "\u001b[0;32m/anaconda3/lib/python3.6/site-packages/pandas/core/series.py\u001b[0m in \u001b[0;36misin\u001b[0;34m(self, values)\u001b[0m\n\u001b[1;32m   3585\u001b[0m         \u001b[0mName\u001b[0m\u001b[0;34m:\u001b[0m \u001b[0manimal\u001b[0m\u001b[0;34m,\u001b[0m \u001b[0mdtype\u001b[0m\u001b[0;34m:\u001b[0m \u001b[0mbool\u001b[0m\u001b[0;34m\u001b[0m\u001b[0m\n\u001b[1;32m   3586\u001b[0m         \"\"\"\n\u001b[0;32m-> 3587\u001b[0;31m         \u001b[0mresult\u001b[0m \u001b[0;34m=\u001b[0m \u001b[0malgorithms\u001b[0m\u001b[0;34m.\u001b[0m\u001b[0misin\u001b[0m\u001b[0;34m(\u001b[0m\u001b[0mself\u001b[0m\u001b[0;34m,\u001b[0m \u001b[0mvalues\u001b[0m\u001b[0;34m)\u001b[0m\u001b[0;34m\u001b[0m\u001b[0m\n\u001b[0m\u001b[1;32m   3588\u001b[0m         \u001b[0;32mreturn\u001b[0m \u001b[0mself\u001b[0m\u001b[0;34m.\u001b[0m\u001b[0m_constructor\u001b[0m\u001b[0;34m(\u001b[0m\u001b[0mresult\u001b[0m\u001b[0;34m,\u001b[0m \u001b[0mindex\u001b[0m\u001b[0;34m=\u001b[0m\u001b[0mself\u001b[0m\u001b[0;34m.\u001b[0m\u001b[0mindex\u001b[0m\u001b[0;34m)\u001b[0m\u001b[0;34m.\u001b[0m\u001b[0m__finalize__\u001b[0m\u001b[0;34m(\u001b[0m\u001b[0mself\u001b[0m\u001b[0;34m)\u001b[0m\u001b[0;34m\u001b[0m\u001b[0m\n\u001b[1;32m   3589\u001b[0m \u001b[0;34m\u001b[0m\u001b[0m\n",
      "\u001b[0;32m/anaconda3/lib/python3.6/site-packages/pandas/core/algorithms.py\u001b[0m in \u001b[0;36misin\u001b[0;34m(comps, values)\u001b[0m\n\u001b[1;32m    403\u001b[0m         raise TypeError(\"only list-like objects are allowed to be passed\"\n\u001b[1;32m    404\u001b[0m                         \u001b[0;34m\" to isin(), you passed a [{values_type}]\"\u001b[0m\u001b[0;34m\u001b[0m\u001b[0m\n\u001b[0;32m--> 405\u001b[0;31m                         .format(values_type=type(values).__name__))\n\u001b[0m\u001b[1;32m    406\u001b[0m \u001b[0;34m\u001b[0m\u001b[0m\n\u001b[1;32m    407\u001b[0m     \u001b[0;32mif\u001b[0m \u001b[0;32mnot\u001b[0m \u001b[0misinstance\u001b[0m\u001b[0;34m(\u001b[0m\u001b[0mvalues\u001b[0m\u001b[0;34m,\u001b[0m \u001b[0;34m(\u001b[0m\u001b[0mABCIndex\u001b[0m\u001b[0;34m,\u001b[0m \u001b[0mABCSeries\u001b[0m\u001b[0;34m,\u001b[0m \u001b[0mnp\u001b[0m\u001b[0;34m.\u001b[0m\u001b[0mndarray\u001b[0m\u001b[0;34m)\u001b[0m\u001b[0;34m)\u001b[0m\u001b[0;34m:\u001b[0m\u001b[0;34m\u001b[0m\u001b[0m\n",
      "\u001b[0;31mTypeError\u001b[0m: only list-like objects are allowed to be passed to isin(), you passed a [int]"
     ]
    }
   ],
   "source": [
    "date = ['2018-02-09']\n",
    "floor = 4\n",
    "week = data[data.Date.isin(date)]\n",
    "week = week[week.Floor.isin(floor)]\n",
    "print(week.shape)\n",
    "print(week['Latitude'].max())\n",
    "print(week['Latitude'].min())\n",
    "print(\" \")\n",
    "print(week['Longitude'].max())\n",
    "print(week['Longitude'].min())"
   ]
  },
  {
   "cell_type": "code",
   "execution_count": 28,
   "metadata": {},
   "outputs": [
    {
     "name": "stdout",
     "output_type": "stream",
     "text": [
      "                                                     LUID        Date  \\\n",
      "53      c6032091ae7d59226544c85eb7c6ce55bd3834d2fd29de...  2018-02-09   \n",
      "54      c6032091ae7d59226544c85eb7c6ce55bd3834d2fd29de...  2018-02-09   \n",
      "55      c6032091ae7d59226544c85eb7c6ce55bd3834d2fd29de...  2018-02-09   \n",
      "56      c6032091ae7d59226544c85eb7c6ce55bd3834d2fd29de...  2018-02-09   \n",
      "57      c6032091ae7d59226544c85eb7c6ce55bd3834d2fd29de...  2018-02-09   \n",
      "58      c6032091ae7d59226544c85eb7c6ce55bd3834d2fd29de...  2018-02-09   \n",
      "59      c6032091ae7d59226544c85eb7c6ce55bd3834d2fd29de...  2018-02-09   \n",
      "60      c6032091ae7d59226544c85eb7c6ce55bd3834d2fd29de...  2018-02-09   \n",
      "61      c6032091ae7d59226544c85eb7c6ce55bd3834d2fd29de...  2018-02-09   \n",
      "62      c6032091ae7d59226544c85eb7c6ce55bd3834d2fd29de...  2018-02-09   \n",
      "63      c6032091ae7d59226544c85eb7c6ce55bd3834d2fd29de...  2018-02-09   \n",
      "64      c6032091ae7d59226544c85eb7c6ce55bd3834d2fd29de...  2018-02-09   \n",
      "65      c6032091ae7d59226544c85eb7c6ce55bd3834d2fd29de...  2018-02-09   \n",
      "11514   7e42508aef08732c22e48a257747c92f83ae625c804a78...  2018-02-09   \n",
      "11515   7e42508aef08732c22e48a257747c92f83ae625c804a78...  2018-02-09   \n",
      "11516   7e42508aef08732c22e48a257747c92f83ae625c804a78...  2018-02-09   \n",
      "11517   7e42508aef08732c22e48a257747c92f83ae625c804a78...  2018-02-09   \n",
      "11518   7e42508aef08732c22e48a257747c92f83ae625c804a78...  2018-02-09   \n",
      "11519   7e42508aef08732c22e48a257747c92f83ae625c804a78...  2018-02-09   \n",
      "11520   7e42508aef08732c22e48a257747c92f83ae625c804a78...  2018-02-09   \n",
      "11521   7e42508aef08732c22e48a257747c92f83ae625c804a78...  2018-02-09   \n",
      "11522   7e42508aef08732c22e48a257747c92f83ae625c804a78...  2018-02-09   \n",
      "11523   7e42508aef08732c22e48a257747c92f83ae625c804a78...  2018-02-09   \n",
      "11524   7e42508aef08732c22e48a257747c92f83ae625c804a78...  2018-02-09   \n",
      "11525   7e42508aef08732c22e48a257747c92f83ae625c804a78...  2018-02-09   \n",
      "11526   7e42508aef08732c22e48a257747c92f83ae625c804a78...  2018-02-09   \n",
      "11527   7e42508aef08732c22e48a257747c92f83ae625c804a78...  2018-02-09   \n",
      "11528   7e42508aef08732c22e48a257747c92f83ae625c804a78...  2018-02-09   \n",
      "11529   7e42508aef08732c22e48a257747c92f83ae625c804a78...  2018-02-09   \n",
      "11530   7e42508aef08732c22e48a257747c92f83ae625c804a78...  2018-02-09   \n",
      "...                                                   ...         ...   \n",
      "502739  cb20c2ad84d7a2643ee83c96bb22bb7c04563cc576a8af...  2018-02-09   \n",
      "502740  cb20c2ad84d7a2643ee83c96bb22bb7c04563cc576a8af...  2018-02-09   \n",
      "502741  cb20c2ad84d7a2643ee83c96bb22bb7c04563cc576a8af...  2018-02-09   \n",
      "502742  cb20c2ad84d7a2643ee83c96bb22bb7c04563cc576a8af...  2018-02-09   \n",
      "502743  cb20c2ad84d7a2643ee83c96bb22bb7c04563cc576a8af...  2018-02-09   \n",
      "502744  cb20c2ad84d7a2643ee83c96bb22bb7c04563cc576a8af...  2018-02-09   \n",
      "502745  cb20c2ad84d7a2643ee83c96bb22bb7c04563cc576a8af...  2018-02-09   \n",
      "502746  cb20c2ad84d7a2643ee83c96bb22bb7c04563cc576a8af...  2018-02-09   \n",
      "502747  cb20c2ad84d7a2643ee83c96bb22bb7c04563cc576a8af...  2018-02-09   \n",
      "502748  cb20c2ad84d7a2643ee83c96bb22bb7c04563cc576a8af...  2018-02-09   \n",
      "502749  cb20c2ad84d7a2643ee83c96bb22bb7c04563cc576a8af...  2018-02-09   \n",
      "502750  cb20c2ad84d7a2643ee83c96bb22bb7c04563cc576a8af...  2018-02-09   \n",
      "502751  cb20c2ad84d7a2643ee83c96bb22bb7c04563cc576a8af...  2018-02-09   \n",
      "502752  cb20c2ad84d7a2643ee83c96bb22bb7c04563cc576a8af...  2018-02-09   \n",
      "502753  cb20c2ad84d7a2643ee83c96bb22bb7c04563cc576a8af...  2018-02-09   \n",
      "502754  cb20c2ad84d7a2643ee83c96bb22bb7c04563cc576a8af...  2018-02-09   \n",
      "502755  cb20c2ad84d7a2643ee83c96bb22bb7c04563cc576a8af...  2018-02-09   \n",
      "502756  cb20c2ad84d7a2643ee83c96bb22bb7c04563cc576a8af...  2018-02-09   \n",
      "502757  cb20c2ad84d7a2643ee83c96bb22bb7c04563cc576a8af...  2018-02-09   \n",
      "502758  cb20c2ad84d7a2643ee83c96bb22bb7c04563cc576a8af...  2018-02-09   \n",
      "502759  cb20c2ad84d7a2643ee83c96bb22bb7c04563cc576a8af...  2018-02-09   \n",
      "502760  cb20c2ad84d7a2643ee83c96bb22bb7c04563cc576a8af...  2018-02-09   \n",
      "502761  cb20c2ad84d7a2643ee83c96bb22bb7c04563cc576a8af...  2018-02-09   \n",
      "502762  cb20c2ad84d7a2643ee83c96bb22bb7c04563cc576a8af...  2018-02-09   \n",
      "502763  cb20c2ad84d7a2643ee83c96bb22bb7c04563cc576a8af...  2018-02-09   \n",
      "502764  cb20c2ad84d7a2643ee83c96bb22bb7c04563cc576a8af...  2018-02-09   \n",
      "502765  cb20c2ad84d7a2643ee83c96bb22bb7c04563cc576a8af...  2018-02-09   \n",
      "502766  cb20c2ad84d7a2643ee83c96bb22bb7c04563cc576a8af...  2018-02-09   \n",
      "502767  cb20c2ad84d7a2643ee83c96bb22bb7c04563cc576a8af...  2018-02-09   \n",
      "502775  cb20c2ad84d7a2643ee83c96bb22bb7c04563cc576a8af...  2018-02-09   \n",
      "\n",
      "         Latitude  Longitude  Floor  BuildingID      Time  \n",
      "53      38.992558 -76.944019      0         122  20:18:09  \n",
      "54      38.992558 -76.944019      0         122  20:17:38  \n",
      "55      38.992558 -76.944019      0         122  20:19:08  \n",
      "56      38.992558 -76.944019      0         122  20:18:38  \n",
      "57      38.992787 -76.942736      0          99  20:21:08  \n",
      "58      38.992787 -76.942736      0          99  20:20:38  \n",
      "59      38.992844 -76.942698      0          99  20:25:08  \n",
      "60      38.992844 -76.942698      0          99  20:24:38  \n",
      "61      38.992844 -76.942698      0          99  20:26:08  \n",
      "62      38.992844 -76.942698      0          99  20:25:39  \n",
      "63      38.992844 -76.942698      0          99  20:27:08  \n",
      "64      38.992844 -76.942698      0          99  20:26:39  \n",
      "65      38.992844 -76.942698      0          99  20:27:38  \n",
      "11514   38.991985 -76.942100      8          98  00:00:10  \n",
      "11515   38.991985 -76.942100      8          98  00:00:40  \n",
      "11516   38.991985 -76.942100      8          98  00:01:11  \n",
      "11517   38.991985 -76.942100      8          98  00:01:44  \n",
      "11518   38.991985 -76.942100      8          98  00:02:42  \n",
      "11519   38.991985 -76.942100      8          98  00:03:27  \n",
      "11520   38.991985 -76.942100      8          98  00:04:08  \n",
      "11521   38.991985 -76.942100      8          98  00:04:48  \n",
      "11522   38.991985 -76.942100      8          98  00:05:28  \n",
      "11523   38.991985 -76.942100      8          98  00:06:08  \n",
      "11524   38.991985 -76.942100      8          98  00:06:59  \n",
      "11525   38.991985 -76.942100      8          98  00:07:29  \n",
      "11526   38.991985 -76.942100      8          98  00:07:59  \n",
      "11527   38.991985 -76.942100      8          98  00:08:30  \n",
      "11528   38.991985 -76.942100      8          98  00:09:01  \n",
      "11529   38.991985 -76.942100      8          98  00:09:32  \n",
      "11530   38.991985 -76.942100      8          98  00:10:03  \n",
      "...           ...        ...    ...         ...       ...  \n",
      "502739  38.990357 -76.936338      4         115  23:42:55  \n",
      "502740  38.990357 -76.936338      4         115  23:42:55  \n",
      "502741  38.990361 -76.936399      3         115  23:38:24  \n",
      "502742  38.990369 -76.936351      4         115  23:46:55  \n",
      "502743  38.990369 -76.936351      4         115  23:46:55  \n",
      "502744  38.990369 -76.936351      4         115  23:46:55  \n",
      "502745  38.990369 -76.936351      4         115  23:46:55  \n",
      "502746  38.990372 -76.936337      4         115  23:46:55  \n",
      "502747  38.990372 -76.936337      4         115  23:46:55  \n",
      "502748  38.990374 -76.936345      5         115  23:46:55  \n",
      "502749  38.990358 -76.936334      5         115  23:42:55  \n",
      "502750  38.990371 -76.936351      4         115  23:51:27  \n",
      "502751  38.990371 -76.936351      4         115  23:51:27  \n",
      "502752  38.990371 -76.936351      4         115  23:51:27  \n",
      "502753  38.990371 -76.936351      4         115  23:51:27  \n",
      "502754  38.990371 -76.936351      4         115  23:51:27  \n",
      "502755  38.990372 -76.936337      4         115  23:51:27  \n",
      "502756  38.990372 -76.936337      4         115  23:51:27  \n",
      "502757  38.990372 -76.936337      4         115  23:51:27  \n",
      "502758  38.990369 -76.936351      4         115  23:46:55  \n",
      "502759  38.990366 -76.936342      4         115  23:55:59  \n",
      "502760  38.990366 -76.936342      4         115  23:55:59  \n",
      "502761  38.990366 -76.936342      4         115  23:55:59  \n",
      "502762  38.990366 -76.936342      4         115  23:55:59  \n",
      "502763  38.990366 -76.936342      4         115  23:55:59  \n",
      "502764  38.990366 -76.936342      4         115  23:55:59  \n",
      "502765  38.990366 -76.936342      4         115  23:55:59  \n",
      "502766  38.990366 -76.936342      4         115  23:55:59  \n",
      "502767  38.990371 -76.936351      4         115  23:51:27  \n",
      "502775  38.990366 -76.936342      4         115  23:55:59  \n",
      "\n",
      "[12968 rows x 7 columns]\n"
     ]
    }
   ],
   "source": [
    "print(week)"
   ]
  },
  {
   "cell_type": "code",
   "execution_count": 29,
   "metadata": {},
   "outputs": [
    {
     "name": "stdout",
     "output_type": "stream",
     "text": [
      "<class 'numpy.float64'>\n",
      "[38.99255839 38.99255839 38.99255839 ... 38.9903658  38.99037094\n",
      " 38.9903658 ]\n"
     ]
    }
   ],
   "source": [
    "#2 features on which clustering should happen\n",
    "f1 = week['Latitude'].values\n",
    "f2 = week['Longitude'].values\n",
    "print(type(f2[0]))\n",
    "print(f1)"
   ]
  },
  {
   "cell_type": "code",
   "execution_count": 30,
   "metadata": {},
   "outputs": [],
   "source": [
    "#upto 5 decimal points (1.1 m)\n",
    "##now doing upto 4 decimal points\n",
    "for i in range(0, len(f1)):\n",
    "    f1[i] = f1[i] * 10000\n",
    "    f1[i] = int(round(f1[i]))"
   ]
  },
  {
   "cell_type": "code",
   "execution_count": 31,
   "metadata": {},
   "outputs": [],
   "source": [
    "for i in range(0, len(f2)):\n",
    "    f2[i] = f2[i] * 10000\n",
    "    f2[i] = int(round(f2[i]))"
   ]
  },
  {
   "cell_type": "code",
   "execution_count": 32,
   "metadata": {},
   "outputs": [
    {
     "name": "stdout",
     "output_type": "stream",
     "text": [
      "389928.0\n",
      "0.0\n",
      "-769440.0\n",
      "0.0\n",
      "[-769440. -769440. -769440. ... -769363. -769364. -769363.]\n"
     ]
    }
   ],
   "source": [
    "print(max(f1))\n",
    "print(min(f1))\n",
    "print(min(f2))\n",
    "print(max(f2))\n",
    "\n",
    "print(f2)"
   ]
  },
  {
   "cell_type": "code",
   "execution_count": 33,
   "metadata": {},
   "outputs": [],
   "source": [
    "#zipping the features\n",
    "X = np.array(list(zip(f1, f2)))"
   ]
  },
  {
   "cell_type": "code",
   "execution_count": 34,
   "metadata": {},
   "outputs": [
    {
     "name": "stdout",
     "output_type": "stream",
     "text": [
      "[[ 389911. -769424.]\n",
      " [ 389913. -769429.]\n",
      " [ 389921. -769437.]]\n"
     ]
    },
    {
     "data": {
      "text/plain": [
       "Text(0.5,1,'Latitude vs Longitude (1.1 m)')"
      ]
     },
     "execution_count": 34,
     "metadata": {},
     "output_type": "execute_result"
    },
    {
     "data": {
      "image/png": "[encoded data removed]",
      "text/plain": [
       "<Figure size 1008x864 with 1 Axes>"
      ]
     },
     "metadata": {},
     "output_type": "display_data"
    }
   ],
   "source": [
    "#Number of clusters = 3\n",
    "k = 3\n",
    "\n",
    "#Random centroids\n",
    "C_x = np.random.randint(389910, 389930, size=k)\n",
    "C_y = np.random.randint(-769440, -769410, size=k)\n",
    "\n",
    "C = np.array(list(zip(C_x, C_y)), dtype = np.float32)\n",
    "print(C)\n",
    "\n",
    "#Before clustering, just plotting the points\n",
    "fig, ax = plt.subplots(figsize=(14, 12))\n",
    "\n",
    "tick_spacingx = 10\n",
    "tick_spacingy = 100\n",
    "ax.xaxis.set_major_locator(plt.MultipleLocator(tick_spacingx))\n",
    "ax.yaxis.set_major_locator(plt.MultipleLocator(tick_spacingy))\n",
    "\n",
    "plt.scatter(f1, f2, c='#050505', s = 2)\n",
    "plt.scatter(C_x, C_y, marker='*', s = 100, c='g')\n",
    "plt.ylim([-769440, -769410])\n",
    "plt.xlim([389910, 389930])\n",
    "plt.xlabel(\"Latitude\")\n",
    "plt.ylabel(\"Longitude\")\n",
    "plt.title(\"Latitude vs Longitude (1.1 m)\")"
   ]
  },
  {
   "cell_type": "code",
   "execution_count": 35,
   "metadata": {},
   "outputs": [],
   "source": [
    "def dist(a, b, ax=1):\n",
    "    return np.linalg.norm(a - b, axis=ax)"
   ]
  },
  {
   "cell_type": "code",
   "execution_count": null,
   "metadata": {},
   "outputs": [],
   "source": []
  },
  {
   "cell_type": "code",
   "execution_count": null,
   "metadata": {},
   "outputs": [],
   "source": []
  },
  {
   "cell_type": "code",
   "execution_count": null,
   "metadata": {},
   "outputs": [],
   "source": []
  },
  {
   "cell_type": "code",
   "execution_count": 36,
   "metadata": {},
   "outputs": [
    {
     "name": "stdout",
     "output_type": "stream",
     "text": [
      "<class 'numpy.ndarray'>\n",
      "[[0. 0.]\n",
      " [0. 0.]\n",
      " [0. 0.]]\n",
      "[[ 389911. -769424.]\n",
      " [ 389913. -769429.]\n",
      " [ 389921. -769437.]]\n",
      "1494044.4091515485\n"
     ]
    }
   ],
   "source": [
    "#To store the value of centroids when it updates\n",
    "C_old = np.zeros(C.shape)\n",
    "print(type(C_old))\n",
    "print(C_old)\n",
    "print(C)\n",
    "#Cluster Lables(0, 1, 2)\n",
    "clusters = np.zeros(len(X))\n",
    "\n",
    "#Error func. - Distance between new centroids and old centroids\n",
    "error = dist(C, C_old, None)\n",
    "print(error.min())\n",
    "# newerror = error[0][0]\n",
    "# print(newerror)"
   ]
  },
  {
   "cell_type": "code",
   "execution_count": 37,
   "metadata": {},
   "outputs": [
    {
     "name": "stdout",
     "output_type": "stream",
     "text": [
      "[[ 389911. -769424.]\n",
      " [ 389913. -769429.]\n",
      " [ 389921. -769437.]]\n",
      "[[0. 0.]\n",
      " [0. 0.]\n",
      " [0. 0.]]\n",
      "[[ 389911. -769424.]\n",
      " [ 389913. -769429.]\n",
      " [ 389921. -769437.]]\n",
      "2062.2104\n",
      "[[ 388993.94 -767576.94]\n",
      " [ 389917.88 -769426.56]\n",
      " [ 389926.72 -769434.7 ]]\n",
      "[[ 389911. -769424.]\n",
      " [ 389913. -769429.]\n",
      " [ 389921. -769437.]]\n",
      "[[ 388993.94 -767576.94]\n",
      " [ 389917.88 -769426.56]\n",
      " [ 389926.72 -769434.7 ]]\n",
      "860517.6\n",
      "[[      0.         0.  ]\n",
      " [ 389915.47 -769407.9 ]\n",
      " [ 389927.2  -769434.7 ]]\n",
      "[[ 388993.94 -767576.94]\n",
      " [ 389917.88 -769426.56]\n",
      " [ 389926.72 -769434.7 ]]\n",
      "[[      0.         0.  ]\n",
      " [ 389915.47 -769407.9 ]\n",
      " [ 389927.2  -769434.7 ]]\n",
      "40.372776\n",
      "[[      0.         0.  ]\n",
      " [ 389905.84 -769370.6 ]\n",
      " [ 389919.88 -769424.9 ]]\n",
      "[[      0.         0.  ]\n",
      " [ 389915.47 -769407.9 ]\n",
      " [ 389927.2  -769434.7 ]]\n",
      "[[      0.         0.  ]\n",
      " [ 389905.84 -769370.6 ]\n",
      " [ 389919.88 -769424.9 ]]\n",
      "7.370033\n",
      "[[      0.         0.  ]\n",
      " [ 389903.97 -769363.5 ]\n",
      " [ 389919.84 -769424.7 ]]\n",
      "[[      0.         0.  ]\n",
      " [ 389905.84 -769370.6 ]\n",
      " [ 389919.88 -769424.9 ]]\n",
      "[[      0.         0.  ]\n",
      " [ 389903.97 -769363.5 ]\n",
      " [ 389919.84 -769424.7 ]]\n",
      "0.0\n"
     ]
    }
   ],
   "source": [
    "#Loop will run till the error becomes zero\n",
    "while error.min() != 0:\n",
    "    # Assigning each value to its closest cluster\n",
    "    for i in range(len(X)):\n",
    "#         print(X[i])\n",
    "        distances = dist(X[i], C)\n",
    "        cluster = np.argmin(distances)\n",
    "        clusters[i] = cluster\n",
    "    # Storing the old centroid values\n",
    "    print(C)\n",
    "    print(C_old)\n",
    "    C_old = deepcopy(C)\n",
    "    print(C_old)\n",
    "    # Finding the new centroids by taking the average value\n",
    "    for i in range(k):\n",
    "        points = [X[j] for j in range(len(X)) if clusters[j] == i]\n",
    "        C[i] = np.mean(points, axis=0)\n",
    "    error = dist(C, C_old, None)\n",
    "    print(error)"
   ]
  },
  {
   "cell_type": "code",
   "execution_count": 38,
   "metadata": {},
   "outputs": [
    {
     "data": {
      "text/plain": [
       "<matplotlib.collections.PathCollection at 0x1a1c7b4d68>"
      ]
     },
     "execution_count": 38,
     "metadata": {},
     "output_type": "execute_result"
    },
    {
     "data": {
      "image/png": "[encoded data removed]",
      "text/plain": [
       "<Figure size 1008x864 with 1 Axes>"
      ]
     },
     "metadata": {},
     "output_type": "display_data"
    }
   ],
   "source": [
    "colors = ['r', 'g', 'b', 'y', 'c', 'm']\n",
    "\n",
    "#Before clustering, just plotting the points\n",
    "fig, ax = plt.subplots(figsize=(14, 12))\n",
    "\n",
    "tick_spacingx = 10\n",
    "tick_spacingy = 100\n",
    "ax.xaxis.set_major_locator(plt.MultipleLocator(tick_spacingx))\n",
    "ax.yaxis.set_major_locator(plt.MultipleLocator(tick_spacingy))\n",
    "\n",
    "plt.scatter(f1, f2, c='#050505', s = 2)\n",
    "plt.ylim([-769440, -769410])\n",
    "plt.xlim([389910, 389930])\n",
    "plt.xlabel(\"Latitude\")\n",
    "plt.ylabel(\"Longitude\")\n",
    "plt.title(\"Latitude vs Longitude (1.1 m)\")\n",
    "\n",
    "for i in range(k):\n",
    "        points = np.array([X[j] for j in range(len(X)) if clusters[j] == i])\n",
    "        ax.scatter(points[:, 0], points[:, 1], s=7, c=colors[i])\n",
    "ax.scatter(C[:, 0], C[:, 1], marker='*', s=20, c='#050505')"
   ]
  },
  {
   "cell_type": "code",
   "execution_count": null,
   "metadata": {},
   "outputs": [],
   "source": [
    "#Final centroid cluster\n",
    "print(C)"
   ]
  }
 ],
 "metadata": {
  "kernelspec": {
   "display_name": "Python 3",
   "language": "python",
   "name": "python3"
  },
  "language_info": {
   "codemirror_mode": {
    "name": "ipython",
    "version": 3
   },
   "file_extension": ".py",
   "mimetype": "text/x-python",
   "name": "python",
   "nbconvert_exporter": "python",
   "pygments_lexer": "ipython3",
   "version": "3.6.5"
  }
 },
 "nbformat": 4,
 "nbformat_minor": 2
}
